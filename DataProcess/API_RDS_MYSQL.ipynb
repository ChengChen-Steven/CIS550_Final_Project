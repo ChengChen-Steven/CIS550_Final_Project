{
 "cells": [
  {
   "cell_type": "markdown",
   "id": "667e4c5f",
   "metadata": {},
   "source": [
    "## 1. connect Python to MySql on AWS RDS"
   ]
  },
  {
   "cell_type": "code",
   "execution_count": 3,
   "id": "01f0cf42",
   "metadata": {
    "ExecuteTime": {
     "end_time": "2021-11-11T02:57:38.992180Z",
     "start_time": "2021-11-11T02:57:35.121881Z"
    }
   },
   "outputs": [
    {
     "name": "stdout",
     "output_type": "stream",
     "text": [
      "Requirement already satisfied: PyMySQL in /opt/anaconda3/lib/python3.8/site-packages (1.0.2)\r\n"
     ]
    }
   ],
   "source": [
    "!pip install PyMySQL\n",
    "import pymysql\n",
    "import config\n",
    "from sqlalchemy import create_engine\n",
    "import pandas as pd\n",
    "import time\n",
    "import warnings\n",
    "warnings.filterwarnings(\"ignore\")"
   ]
  },
  {
   "cell_type": "code",
   "execution_count": null,
   "id": "7969e19d",
   "metadata": {
    "ExecuteTime": {
     "end_time": "2021-11-11T02:51:34.810719Z",
     "start_time": "2021-11-11T02:51:34.797687Z"
    }
   },
   "outputs": [],
   "source": [
    "# private key\n",
    "db= \"stock\"\n",
    "host= 'stock.cpmssmgfhpaz.us-east-2.rds.amazonaws.com'\n",
    "password='07ta1207ta12'\n",
    "user= 'admin'\n",
    "port= \"3306\""
   ]
  },
  {
   "cell_type": "markdown",
   "id": "0403fb1b",
   "metadata": {},
   "source": [
    "AWS EC2 experience page<br>\n",
    "EC2 > Security Groups > Create security group\n",
    "\n",
    "rds-python:<br>\n",
    "Inbound rules: Type: All traffic Source: MyIP<br>\n",
    "Outbound rules: Type: All traffic Source: Anywhere"
   ]
  },
  {
   "cell_type": "code",
   "execution_count": null,
   "id": "0edbf4ed",
   "metadata": {
    "ExecuteTime": {
     "end_time": "2021-11-11T02:52:31.363758Z",
     "start_time": "2021-11-11T02:52:31.147286Z"
    }
   },
   "outputs": [],
   "source": [
    "db=pymysql.connect(host='stock.cpmssmgfhpaz.us-east-2.rds.amazonaws.com', user='admin', password='07ta1207ta12')\n",
    "cursor = db.cursor()\n",
    "cursor.execute(\"select version()\")"
   ]
  },
  {
   "cell_type": "markdown",
   "id": "a32f46fa",
   "metadata": {},
   "source": [
    "## Create Table in Database"
   ]
  },
  {
   "cell_type": "code",
   "execution_count": null,
   "id": "21cedc4b",
   "metadata": {},
   "outputs": [],
   "source": [
    "#sql = '''create database stock'''\n",
    "#cursor.execute(sql)\n",
    "\n",
    "sql = '''use stock'''\n",
    "cursor.execute(sql)"
   ]
  },
  {
   "cell_type": "code",
   "execution_count": 1,
   "id": "c4a6284e",
   "metadata": {
    "ExecuteTime": {
     "end_time": "2021-11-11T02:54:05.506769Z",
     "start_time": "2021-11-11T02:54:05.472187Z"
    }
   },
   "outputs": [],
   "source": [
    "# api_key and ticker \n",
    "api_key = 'B9RQZ1WV8GOYCQBD'\n",
    "tickers = ['MMM', 'AOS', 'ABT', 'ABBV', 'ABMD', 'ACN', 'ATVI', 'ADM', 'ADBE', 'AAP', 'AMD', 'AES', 'AFL', 'A', 'APD', 'AKAM', 'ALK', 'ALB', 'ARE', 'ALGN', 'ALLE', 'LNT', 'ALL', 'GOOGL', 'GOOG', 'MO', 'AMZN', 'AMCR', 'AEE', 'AAL', 'AEP', 'AXP', 'AIG', 'AMT', 'AWK', 'AMP', 'ABC', 'AME', 'AMGN', 'APH', 'ADI', 'ANSS', 'ANTM', 'AON', 'APA', 'AAPL', 'AMAT', 'APTV', 'ANET', 'AJG', 'AIZ', 'T', 'ATO', 'ADSK', 'ADP', 'AZO', 'AVB', 'AVY', 'BKR', 'BLL', 'BAC', 'BBWI', 'BAX', 'BDX', 'BRK.B', 'BBY', 'BIO', 'TECH', 'BIIB', 'BLK', 'BK', 'BA', 'BKNG', 'BWA', 'BXP', 'BSX', 'BMY', 'AVGO', 'BR', 'BRO', 'BF.B', 'CHRW', 'CDNS', 'CZR', 'CPB', 'COF', 'CAH', 'KMX', 'CCL', 'CARR', 'CTLT', 'CAT', 'CBOE', 'CBRE', 'CDW', 'CE', 'CNC', 'CNP', 'CDAY', 'CERN', 'CF', 'CRL', 'SCHW', 'CHTR', 'CVX', 'CMG', 'CB', 'CHD', 'CI', 'CINF', 'CTAS', 'CSCO', 'C', 'CFG', 'CTXS', 'CLX', 'CME', 'CMS', 'KO', 'CTSH', 'CL', 'CMCSA', 'CMA', 'CAG', 'COP', 'ED', 'STZ', 'CPRT', 'GLW', 'CTVA', 'COST', 'CTRA', 'CCI', 'CSX', 'CMI', 'CVS', 'DHI', 'DHR', 'DRI', 'DVA', 'DE', 'DAL', 'XRAY', 'DVN', 'DXCM', 'FANG', 'DLR', 'DFS', 'DISCA', 'DISCK', 'DISH', 'DG', 'DLTR', 'D', 'DPZ', 'DOV', 'DOW', 'DTE', 'DUK', 'DRE', 'DD', 'DXC', 'EMN', 'ETN', 'EBAY', 'ECL', 'EIX', 'EW', 'EA', 'LLY', 'EMR', 'ENPH', 'ETR', 'EOG', 'EFX', 'EQIX', 'EQR', 'ESS', 'EL', 'ETSY', 'RE', 'EVRG', 'ES', 'EXC', 'EXPE', 'EXPD', 'EXR', 'XOM', 'FFIV', 'FB', 'FAST', 'FRT', 'FDX', 'FIS', 'FITB', 'FRC', 'FE', 'FISV', 'FLT', 'FMC', 'F', 'FTNT', 'FTV', 'FBHS', 'FOXA', 'FOX', 'BEN', 'FCX', 'GPS', 'GRMN', 'IT', 'GNRC', 'GD', 'GE', 'GIS', 'GM', 'GPC', 'GILD', 'GPN', 'GL', 'GS', 'HAL', 'HBI', 'HAS', 'HCA', 'PEAK', 'HSIC', 'HES', 'HPE', 'HLT', 'HOLX', 'HD', 'HON', 'HRL', 'HST', 'HWM', 'HPQ', 'HUM', 'HBAN', 'HII', 'IBM', 'IEX', 'IDXX', 'INFO', 'ITW', 'ILMN', 'INCY', 'IR', 'INTC', 'ICE', 'IFF', 'IP', 'IPG', 'INTU', 'ISRG', 'IVZ', 'IPGP', 'IQV', 'IRM', 'JBHT', 'JKHY', 'J', 'SJM', 'JNJ', 'JCI', 'JPM', 'JNPR', 'KSU', 'K', 'KEY', 'KEYS', 'KMB', 'KIM', 'KMI', 'KLAC', 'KHC', 'KR', 'LHX', 'LH', 'LRCX', 'LW', 'LVS', 'LEG', 'LDOS', 'LEN', 'LNC', 'LIN', 'LYV', 'LKQ', 'LMT', 'L', 'LOW', 'LUMN', 'LYB', 'MTB', 'MRO', 'MPC', 'MKTX', 'MAR', 'MMC', 'MLM', 'MAS', 'MA', 'MTCH', 'MKC', 'MCD', 'MCK', 'MDT', 'MRK', 'MET', 'MTD', 'MGM', 'MCHP', 'MU', 'MSFT', 'MAA', 'MRNA', 'MHK', 'TAP', 'MDLZ', 'MPWR', 'MNST', 'MCO', 'MS', 'MSI', 'MSCI', 'NDAQ', 'NTAP', 'NFLX', 'NWL', 'NEM', 'NWSA', 'NWS', 'NEE', 'NLSN', 'NKE', 'NI', 'NSC', 'NTRS', 'NOC', 'NLOK', 'NCLH', 'NRG', 'NUE', 'NVDA', 'NVR', 'NXPI', 'ORLY', 'OXY', 'ODFL', 'OMC', 'OKE', 'ORCL', 'OGN', 'OTIS', 'PCAR', 'PKG', 'PH', 'PAYX', 'PAYC', 'PYPL', 'PENN', 'PNR', 'PBCT', 'PEP', 'PKI', 'PFE', 'PM', 'PSX', 'PNW', 'PXD', 'PNC', 'POOL', 'PPG', 'PPL', 'PFG', 'PG', 'PGR', 'PLD', 'PRU', 'PTC', 'PEG', 'PSA', 'PHM', 'PVH', 'QRVO', 'QCOM', 'PWR', 'DGX', 'RL', 'RJF', 'RTX', 'O', 'REG', 'REGN', 'RF', 'RSG', 'RMD', 'RHI', 'ROK', 'ROL', 'ROP', 'ROST', 'RCL', 'SPGI', 'CRM', 'SBAC', 'SLB', 'STX', 'SEE', 'SRE', 'NOW', 'SHW', 'SPG', 'SWKS', 'SNA', 'SO', 'LUV', 'SWK', 'SBUX', 'STT', 'STE', 'SYK', 'SIVB', 'SYF', 'SNPS', 'SYY', 'TMUS', 'TROW', 'TTWO', 'TPR', 'TGT', 'TEL', 'TDY', 'TFX', 'TER', 'TSLA', 'TXN', 'TXT', 'COO', 'HIG', 'HSY', 'MOS', 'TRV', 'DIS', 'TMO', 'TJX', 'TSCO', 'TT', 'TDG', 'TRMB', 'TFC', 'TWTR', 'TYL', 'TSN', 'USB', 'UDR', 'ULTA', 'UAA', 'UA', 'UNP', 'UAL', 'UPS', 'URI', 'UNH', 'UHS', 'VLO', 'VTR', 'VRSN', 'VRSK', 'VZ', 'VRTX', 'VFC', 'VIAC', 'VTRS', 'V', 'VNO', 'VMC', 'WRB', 'GWW', 'WAB', 'WBA', 'WMT', 'WM', 'WAT', 'WEC', 'WFC', 'WELL', 'WST', 'WDC', 'WU', 'WRK', 'WY', 'WHR', 'WMB', 'WLTW', 'WYNN', 'XEL', 'XLNX', 'XYL', 'YUM', 'ZBRA', 'ZBH', 'ZION', 'ZTS']"
   ]
  },
  {
   "cell_type": "code",
   "execution_count": 2,
   "id": "d92d840e",
   "metadata": {
    "ExecuteTime": {
     "end_time": "2021-11-11T02:54:29.631908Z",
     "start_time": "2021-11-11T02:54:29.621260Z"
    }
   },
   "outputs": [
    {
     "name": "stdout",
     "output_type": "stream",
     "text": [
      "505\n",
      "['MMM', 'AOS', 'ABT', 'ABBV', 'ABMD', 'ACN', 'ATVI', 'ADM', 'ADBE', 'AAP']\n"
     ]
    }
   ],
   "source": [
    "print(len(tickers))\n",
    "print(tickers[0:10])"
   ]
  },
  {
   "cell_type": "code",
   "execution_count": null,
   "id": "bceab47d",
   "metadata": {},
   "outputs": [],
   "source": [
    "for ticker in tickers[1:]:\n",
    "    time.sleep(12)\n",
    "    url = 'https://www.alphavantage.co/query?function=TIME_SERIES_DAILY&symbol='+ticker+'&outputsize=full&apikey='+ api_key+'&datatype=csv'\n",
    "    save_path = ticker + '.csv'\n",
    "    df_0 = pd.read_csv(url)\n",
    "    df_1 = df_0[(df_0[\"timestamp\"]>\"2020-09-31\")&(df_0[\"timestamp\"]<\"2021-10-01\")]\n",
    "    df_1['symbol']=df_1.apply(lambda x: ticker, axis=1)\n",
    "    df_2=df_1.rename(columns={\"Symbol\":\"Symbol\", \"timestamp\":\"date\", \"volume\":\"volume\", \"open\":\"open\", \"close\":\"close\", \"high\":\"high\", \"low\": \"low\"})\n",
    "    df= df_2[[\"symbol\", \"date\", \"volume\", \"open\", \"close\", \"high\", \"low\"]].reset_index().drop(['index'], axis=1)\n",
    "    engine = create_engine(\"mysql+pymysql://{user}:{pw}@{host}/{db}\".format(user=user, pw=password, host=host, db=db))\n",
    "    df.to_sql('stock', con=engine, if_exists=\"append\")"
   ]
  }
 ],
 "metadata": {
  "hide_input": false,
  "kernelspec": {
   "display_name": "Python 3",
   "language": "python",
   "name": "python3"
  },
  "language_info": {
   "codemirror_mode": {
    "name": "ipython",
    "version": 3
   },
   "file_extension": ".py",
   "mimetype": "text/x-python",
   "name": "python",
   "nbconvert_exporter": "python",
   "pygments_lexer": "ipython3",
   "version": "3.8.8"
  },
  "toc": {
   "base_numbering": 1,
   "nav_menu": {},
   "number_sections": true,
   "sideBar": true,
   "skip_h1_title": false,
   "title_cell": "Table of Contents",
   "title_sidebar": "Contents",
   "toc_cell": false,
   "toc_position": {},
   "toc_section_display": true,
   "toc_window_display": false
  }
 },
 "nbformat": 4,
 "nbformat_minor": 5
}

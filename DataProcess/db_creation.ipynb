{
 "metadata": {
  "language_info": {
   "codemirror_mode": {
    "name": "ipython",
    "version": 3
   },
   "file_extension": ".py",
   "mimetype": "text/x-python",
   "name": "python",
   "nbconvert_exporter": "python",
   "pygments_lexer": "ipython3",
   "version": "3.6.6-final"
  },
  "orig_nbformat": 2,
  "kernelspec": {
   "name": "python3",
   "display_name": "Python 3.6.6 64-bit ('anaconda3': virtualenv)",
   "metadata": {
    "interpreter": {
     "hash": "8c0226aa8bee15a8c1291486018c731769856125f3ab9850a9a1b5544981c320"
    }
   }
  }
 },
 "nbformat": 4,
 "nbformat_minor": 2,
 "cells": [
  {
   "cell_type": "code",
   "execution_count": 80,
   "metadata": {},
   "outputs": [],
   "source": [
    "import pymysql \n",
    "import config as cfg\n",
    "from sqlalchemy import create_engine\n",
    "import mysql.connector\n",
    "import pandas as pd\n",
    "import requests \n",
    "import random\n",
    "from datetime import datatime\n",
    "import warnings\n",
    "warnings.filterwarnings(\"ignore\")\n",
    "import os\n",
    "os.environ[\"TZ\"] = \"America/New_York\" \n",
    "import time\n"
   ]
  },
  {
   "source": [
    "# connect to mysql db\n",
    "mydb = mysql.connector.connect(\n",
    "    host=cfg.db_stock[\"host\"],\n",
    "    port=cfg.db_stock[\"port\"],\n",
    "    user=cfg.db_stock[\"user\"],\n",
    "    password=cfg.db_stock[\"password\"],\n",
    "    database=cfg.db_stock[\"database\"],\n",
    ")"
   ],
   "cell_type": "code",
   "metadata": {},
   "execution_count": 81,
   "outputs": []
  },
  {
   "source": [
    "# S&P \n",
    "sp500 = pd.read_html(cfg.sp500_wiki)[0]\n",
    "#print(sp500)  # GICS Sector is a good sector to use \n",
    "#sp500.to_csv(\"sp500.csv\")\n",
    "print(type(sp500))\n",
    "sp500.head(1)"
   ],
   "cell_type": "code",
   "metadata": {},
   "execution_count": 126,
   "outputs": [
    {
     "output_type": "stream",
     "name": "stdout",
     "text": [
      "<class 'pandas.core.frame.DataFrame'>\n"
     ]
    },
    {
     "output_type": "execute_result",
     "data": {
      "text/plain": [
       "  Symbol Security SEC filings  GICS Sector         GICS Sub-Industry  \\\n",
       "0    MMM       3M     reports  Industrials  Industrial Conglomerates   \n",
       "\n",
       "   Headquarters Location Date first added    CIK Founded  \n",
       "0  Saint Paul, Minnesota       1976-08-09  66740    1902  "
      ],
      "text/html": "<div>\n<style scoped>\n    .dataframe tbody tr th:only-of-type {\n        vertical-align: middle;\n    }\n\n    .dataframe tbody tr th {\n        vertical-align: top;\n    }\n\n    .dataframe thead th {\n        text-align: right;\n    }\n</style>\n<table border=\"1\" class=\"dataframe\">\n  <thead>\n    <tr style=\"text-align: right;\">\n      <th></th>\n      <th>Symbol</th>\n      <th>Security</th>\n      <th>SEC filings</th>\n      <th>GICS Sector</th>\n      <th>GICS Sub-Industry</th>\n      <th>Headquarters Location</th>\n      <th>Date first added</th>\n      <th>CIK</th>\n      <th>Founded</th>\n    </tr>\n  </thead>\n  <tbody>\n    <tr>\n      <td>0</td>\n      <td>MMM</td>\n      <td>3M</td>\n      <td>reports</td>\n      <td>Industrials</td>\n      <td>Industrial Conglomerates</td>\n      <td>Saint Paul, Minnesota</td>\n      <td>1976-08-09</td>\n      <td>66740</td>\n      <td>1902</td>\n    </tr>\n  </tbody>\n</table>\n</div>"
     },
     "metadata": {},
     "execution_count": 126
    }
   ]
  },
  {
   "cell_type": "code",
   "execution_count": 83,
   "metadata": {},
   "outputs": [],
   "source": [
    "# key generator\n",
    "def gen_apikey(keys=None):\n",
    "    idx = random.randint(0, len(keys)-1)\n",
    "    return(keys[idx])"
   ]
  },
  {
   "cell_type": "code",
   "execution_count": 84,
   "metadata": {},
   "outputs": [],
   "source": [
    "# stock price\n",
    "# pull historical data for a symbol\n",
    "def get_history_stock_price(symbol, max_num=1000, apikeys=None):\n",
    "    # get adjusted daily time series value\n",
    "    url = \"https://www.alphavantage.co/query?function=TIME_SERIES_DAILY_ADJUSTED&symbol={0}&outputsize=full&apikey={1}&datatype=csv\".format(symbol, gen_apikey(keys=apikeys))\n",
    "    df = pd.read_csv(url).loc[0:max_num+1, ]\n",
    "      \n",
    "    # approx logic - adjusted close not just calculated by dividen & split, stock buyback could affect\n",
    "    df[\"adjusted_ratio\"] = df[\"adjusted_close\"] / df[\"close\"]\n",
    "    df[\"open\"] = df[\"open\"] * df[\"adjusted_ratio\"]\n",
    "    df[\"high\"] = df[\"high\"] * df[\"adjusted_ratio\"]\n",
    "    df[\"low\"] = df[\"low\"] * df[\"adjusted_ratio\"]\n",
    "    df[\"close\"] = df[\"adjusted_close\"]\n",
    "    df[\"volume\"] = df[\"volume\"] / df[\"adjusted_ratio\"]\n",
    "\n",
    "    df[\"last_close\"] = df[\"close\"].shift(-1)\n",
    "    df[\"change\"] = (df[\"close\"] - df[\"last_close\"]) / df[\"last_close\"]\n",
    "    df[\"date\"] = df[\"timestamp\"]\n",
    "    df = df.loc[0:max_num, ]\n",
    "    time.sleep(12)\n",
    "\n",
    "    # macd\n",
    "    url = \"https://www.alphavantage.co/query?function=MACD&symbol={0}&interval=daily&series_type=close&apikey={1}&datatype=csv\".format(symbol, gen_apikey(keys=apikeys))\n",
    "    df_macd = pd.read_csv(url).loc[0:max_num, ]\n",
    "    df_macd[\"MACD_Hist\"] = df_macd[\"MACD_Hist\"] * 2\n",
    "    df_macd.columns = [\"date\", \"DIF\", \"MACD\", \"DEA\"]\n",
    "    time.sleep(12)\n",
    "\n",
    "    # rsi\n",
    "    url = \"https://www.alphavantage.co/query?function=RSI&symbol={0}&interval=daily&time_period=6&series_type=close&apikey={1}&datatype=csv\".format(symbol, gen_apikey(keys=apikeys))\n",
    "    df_rsi = pd.read_csv(url).loc[0:max_num, ]\n",
    "    df_rsi.columns = [\"date\", \"RSI\"]\n",
    "    df_signal = pd.merge(df_macd, df_rsi, how=\"inner\", on=\"date\")\n",
    "    time.sleep(12)\n",
    "\n",
    "    # combine all\n",
    "    df = pd.merge(df, df_signal, how=\"inner\", on=\"date\")\n",
    "    df[\"symbol\"] = symbol\n",
    "    df = df[[\"date\", \"symbol\", \"open\", \"high\", \"low\", \"close\", \"volume\", \"change\", \"DIF\", \"DEA\", \"MACD\", \"RSI\"]]\n",
    "    return(df)\n",
    "\n",
    "def get_sp500_history_stock_price(sp500_list, max_num=1000):\n",
    "    df = pd.DataFrame()\n",
    "    for symbol in sp500_list:\n",
    "        df_symbol = get_history_stock_price(symbol, max_num=max_num)\n",
    "        df = df.append([df_symbol])\n",
    "    print(df)\n",
    "    return(df)"
   ]
  },
  {
   "cell_type": "code",
   "execution_count": null,
   "metadata": {},
   "outputs": [],
   "source": []
  },
  {
   "cell_type": "code",
   "execution_count": 101,
   "metadata": {},
   "outputs": [],
   "source": [
    "## stock fundamentals \n",
    "# pull stock basic info for a symbol\n",
    "def get_stock_fundamentals(symbol, apikeys):\n",
    "    url = \"https://www.alphavantage.co/query?function=OVERVIEW&symbol={0}&apikey={1}\".format(symbol, gen_apikey(keys=apikeys))\n",
    "    r = requests.get(url)\n",
    "    data = r.json()\n",
    "    return(data)\n",
    "\n",
    "def get_sp500_funamentals(sp500_list, apikeys):\n",
    "    info = []\n",
    "    for symbol in sp500_list:\n",
    "        print(symbol)\n",
    "        while True:\n",
    "            time.sleep(6)\n",
    "            data = get_stock_fundamentals(symbol, apikeys)\n",
    "            if \"Symbol\" in data:\n",
    "                info.append(data)\n",
    "                break\n",
    "    \n",
    "    df = pd.DataFrame(info)\n",
    "    print(\"done!\")\n",
    "    return(df)\n"
   ]
  },
  {
   "cell_type": "code",
   "execution_count": 102,
   "metadata": {},
   "outputs": [],
   "source": [
    "df = get_sp500_funamentals(sp500_list=sp500[\"Symbol\"], apikeys=cfg.api_keys)\n",
    "df.to_csv(\"sp500_{}_{}_{}.csv\".format(datetime.now().year, datetime.now().month, datetime.now().day))\n"
   ]
  },
  {
   "cell_type": "code",
   "execution_count": 111,
   "metadata": {},
   "outputs": [],
   "source": [
    "df = pd.read_csv(\"sp500_vantage.csv\")\n",
    "df.to_csv(\"sp500_{}_{}_{}.csv\".format(datetime.now().year, datetime.now().month, datetime.now().day))\n"
   ]
  },
  {
   "cell_type": "code",
   "execution_count": 110,
   "metadata": {},
   "outputs": [
    {
     "output_type": "execute_result",
     "data": {
      "text/plain": [
       "datetime.datetime(2021, 11, 13, 14, 13, 40, 128695)"
      ]
     },
     "metadata": {},
     "execution_count": 110
    }
   ],
   "source": [
    "from datetime import datetime\n",
    "datetime.now()"
   ]
  },
  {
   "cell_type": "code",
   "execution_count": 112,
   "metadata": {},
   "outputs": [],
   "source": [
    "engine = create_engine(\"mysql+pymysql://{user}:{pw}@{host}:{port}/{db}\".format(\n",
    "    user=cfg.db_stock[\"user\"],\n",
    "    pw=cfg.db_stock[\"password\"],\n",
    "    host=cfg.db_stock[\"host\"],\n",
    "    port=cfg.db_stock[\"port\"],\n",
    "    db=cfg.db_stock[\"database\"]))"
   ]
  },
  {
   "cell_type": "code",
   "execution_count": 113,
   "metadata": {},
   "outputs": [
    {
     "output_type": "execute_result",
     "data": {
      "text/plain": [
       "[('Fundamentals',), ('abcd',), ('test',)]"
      ]
     },
     "metadata": {},
     "execution_count": 113
    }
   ],
   "source": [
    "df.to_sql(\"Fundamentals\", con=engine, if_exists=\"replace\")\n",
    "engine.execute(\"SHOW TABLES\").fetchall()\n"
   ]
  },
  {
   "cell_type": "code",
   "execution_count": 125,
   "metadata": {
    "tags": []
   },
   "outputs": [
    {
     "output_type": "stream",
     "name": "stdout",
     "text": [
      "['sector', 'count(*)']\n('LIFE SCIENCES', 80)\n('TRADE & SERVICES', 77)\n('FINANCE', 66)\n('ENERGY & TRANSPORTATION', 74)\n('MANUFACTURING', 93)\n('TECHNOLOGY', 70)\n('REAL ESTATE & CONSTRUCTION', 42)\n"
     ]
    }
   ],
   "source": [
    "mycursor = mydb.cursor()\n",
    "mycursor.execute(\n",
    "    \"\"\"\n",
    "    SELECT sector, count(*)\n",
    "    FROM Fundamentals\n",
    "    group by sector;\n",
    "    \"\"\"\n",
    ")\n",
    "print([i[0] for i in mycursor.description])\n",
    "result = mycursor.fetchall()\n",
    "for x in result:\n",
    "    print(x)"
   ]
  },
  {
   "cell_type": "code",
   "execution_count": null,
   "metadata": {},
   "outputs": [],
   "source": []
  }
 ]
}